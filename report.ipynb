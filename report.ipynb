{
 "cells": [
  {
   "cell_type": "markdown",
   "id": "028ccb92",
   "metadata": {},
   "source": [
    "# Project 2: Continuous Control"
   ]
  },
  {
   "cell_type": "markdown",
   "id": "73f56f46",
   "metadata": {},
   "source": [
    "### This notebook reports the method adopted to train an agent for solving the task of continuous control of a double jointed arm in a Unity environment."
   ]
  },
  {
   "cell_type": "markdown",
   "id": "e25f8c91",
   "metadata": {},
   "source": [
    "The learning algorithm I used for this project is a Deep Deterministic Policy Gradient, whose full description can be found in the original paper.\n",
    "\n",
    "DDPG is an actor-critic algorithm, and its basically an extension of DQN to continuous actions spaces.\n",
    "\n",
    "The actor is used to approximate the optimal policy deterministically, differently from other actor-critic algorithms that learn stochastic policies (i.e. a probability distribution over the actions).\n",
    "\n",
    "The critic learns to evaluate the optimal action-value functions by using the actor estimated best actions."
   ]
  },
  {
   "cell_type": "markdown",
   "id": "51321143",
   "metadata": {},
   "source": [
    "## Hyperparameters "
   ]
  },
  {
   "cell_type": "markdown",
   "id": "8b477753",
   "metadata": {},
   "source": [
    "```\n",
    "BUFFER_SIZE = 1e5  # replay buffer size\n",
    "BATCH_SIZE = 128         # minibatch size\n",
    "GAMMA = 0.99            # discount factor\n",
    "TAU = 1e-3              # for soft update of target parameters\n",
    "LR_ACTOR = 1e-4         # learning rate of the actor \n",
    "LR_CRITIC = 1e-4        # learning rate of the critic\n",
    "WEIGHT_DECAY = 0   # L2 weight decay\n",
    "```"
   ]
  },
  {
   "cell_type": "markdown",
   "id": "b2e7caa3",
   "metadata": {},
   "source": [
    "## Plot of Rewards\n",
    "Environment was solved in 248  episodes "
   ]
  },
  {
   "cell_type": "markdown",
   "id": "a7a1b423",
   "metadata": {},
   "source": [
    "![DDPG_Solution_Scores](model_performance.png)"
   ]
  },
  {
   "cell_type": "markdown",
   "id": "9b782cd6",
   "metadata": {},
   "source": [
    "# Future Work\n",
    "* Trying other algorithms like PPO, A3C or D4PG\n",
    "* Change the Hyperparameters"
   ]
  },
  {
   "cell_type": "code",
   "execution_count": null,
   "id": "2278bc6e",
   "metadata": {},
   "outputs": [],
   "source": []
  }
 ],
 "metadata": {
  "kernelspec": {
   "display_name": "drlnd",
   "language": "python",
   "name": "drlnd"
  },
  "language_info": {
   "codemirror_mode": {
    "name": "ipython",
    "version": 3
   },
   "file_extension": ".py",
   "mimetype": "text/x-python",
   "name": "python",
   "nbconvert_exporter": "python",
   "pygments_lexer": "ipython3",
   "version": "3.6.13"
  }
 },
 "nbformat": 4,
 "nbformat_minor": 5
}
